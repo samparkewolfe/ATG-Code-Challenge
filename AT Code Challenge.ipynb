{
 "cells": [
  {
   "cell_type": "markdown",
   "metadata": {},
   "source": [
    "# AT Code Challenge\n",
    "\n",
    "## Description\n",
    "The task is to produce a rate-limiting module that stops a particular requestor from making too many http requests within a particular period of time.\n",
    "\n",
    "The module should expose a method that keeps track of requests and limits it such that a requester can only make 100 requests per hour. After the limit has been reached, return a 429 with the text \"Rate limit exceeded. Try again in #{n} seconds\".\n",
    "\n",
    "Although you are only required to implement the strategy described above, it should be easy to extend the rate limiting module to take on different rate-limiting strategies.\n",
    "\n",
    "How you do this is up to you. Think about how easy your rate limiter will be to maintain and control. Write what you consider to be production-quality code, with comments and tests if and when you consider them necessary."
   ]
  },
  {
   "cell_type": "code",
   "execution_count": null,
   "metadata": {},
   "outputs": [],
   "source": [
    "# Inspirations\n",
    "\n",
    "# Flask Response\n",
    "# https://stackoverflow.com/questions/7824101/return-http-status-code-201-in-flask\n",
    "\n",
    "# Decorators\n",
    "# https://realpython.com/primer-on-python-decorators/\n",
    "\n",
    "# Rate Limiter\n",
    "# https://pypi.org/project/ratelimiter/\n",
    "\n",
    "# Non Local\n",
    "# https://stackoverflow.com/questions/5218895/python-nested-functions-variable-scoping\n",
    "\n",
    "# Difference between datetime objects\n",
    "# https://stackoverflow.com/questions/1345827/how-do-i-find-the-time-difference-between-two-datetime-objects-in-python\n",
    "\n",
    "# Clearing the cache of the decorator\n",
    "# https://stackoverflow.com/questions/58626079/how-to-clean-reset-cache-memory-of-my-decorator"
   ]
  },
  {
   "cell_type": "markdown",
   "metadata": {},
   "source": [
    "## Rate Limiter"
   ]
  },
  {
   "cell_type": "code",
   "execution_count": null,
   "metadata": {},
   "outputs": [],
   "source": [
    "from flask import Response\n",
    "import datetime"
   ]
  },
  {
   "cell_type": "code",
   "execution_count": null,
   "metadata": {},
   "outputs": [],
   "source": [
    "# Datetime helper\n",
    "def deltaHours(timeA, timeB):\n",
    "    duration = timeA - timeB\n",
    "    duration = duration.total_seconds()\n",
    "    hours = divmod(duration, 3600)[0]\n",
    "    return hours"
   ]
  },
  {
   "cell_type": "code",
   "execution_count": null,
   "metadata": {},
   "outputs": [],
   "source": [
    "def rateLimiter(func):\n",
    "    latestCallTimes = {}\n",
    "    \n",
    "    def wrapper(obj, uuid, timeOfCall = datetime.datetime.now()):\n",
    "        nonlocal latestCallTimes\n",
    "        \n",
    "        now = datetime.datetime.now()\n",
    "        \n",
    "        if uuid in latestCallTimes:\n",
    "            latestCallTimes[uuid] = [time for time in latestCallTimes[uuid] if deltaHours(now, time) < 1.]\n",
    "        else:\n",
    "            latestCallTimes[uuid] = []\n",
    "        \n",
    "        if (len(latestCallTimes[uuid]) < 100):\n",
    "            latestCallTimes[uuid].append(timeOfCall)\n",
    "            return func(obj)\n",
    "        else:\n",
    "            duration = now - latestCallTimes[uuid][0]\n",
    "            duration = duration.total_seconds()\n",
    "            secondsLeft = 3600 - duration\n",
    "            \n",
    "            return Response(\"Rate limit exceeded. Try again in {0} seconds\".format(secondsLeft), \n",
    "                            status=429, \n",
    "                            mimetype='application/json')\n",
    "    \n",
    "    wrapper.cache_reset = lambda : latestCallTimes.clear()\n",
    "    \n",
    "    return wrapper"
   ]
  },
  {
   "cell_type": "markdown",
   "metadata": {},
   "source": [
    "## Tests"
   ]
  },
  {
   "cell_type": "code",
   "execution_count": null,
   "metadata": {},
   "outputs": [],
   "source": [
    "import numpy as np\n",
    "from enum import Enum\n",
    "import uuid"
   ]
  },
  {
   "cell_type": "code",
   "execution_count": null,
   "metadata": {},
   "outputs": [],
   "source": [
    "def printResponse(response):\n",
    "    print(response.status, response.get_data())"
   ]
  },
  {
   "cell_type": "code",
   "execution_count": null,
   "metadata": {},
   "outputs": [],
   "source": [
    "class TestResult(Enum):\n",
    "    passed = 1\n",
    "    failed = 2\n",
    "\n",
    "class Test:    \n",
    "    class Server():\n",
    "        @rateLimiter\n",
    "        def getResponse(self):\n",
    "            return Response(\"success\", status=200, mimetype='application/json')\n",
    "    \n",
    "    def setup(self):\n",
    "        self.Server.getResponse.cache_reset()\n",
    "    \n",
    "    def run():\n",
    "        return TestResult.failed"
   ]
  },
  {
   "cell_type": "code",
   "execution_count": null,
   "metadata": {},
   "outputs": [],
   "source": [
    "class RateLimiterTest1(Test):\n",
    "    def run(self):\n",
    "        \n",
    "        server = Test.Server()\n",
    "        \n",
    "        for i in range(1, 102):\n",
    "            response = server.getResponse(\"\")\n",
    "            if (response.status_code == 429):\n",
    "                break\n",
    "            if (i > 100):\n",
    "                return TestResult.failed\n",
    "        \n",
    "        return TestResult.passed"
   ]
  },
  {
   "cell_type": "code",
   "execution_count": null,
   "metadata": {},
   "outputs": [],
   "source": [
    "class RateLimiterTest2(Test):\n",
    "    def run(self):\n",
    "        \n",
    "        server = Test.Server()\n",
    "        \n",
    "        times = datetime.datetime.now() + np.linspace(-1., 0., 200) * datetime.timedelta(hours=0.5)\n",
    "        \n",
    "        responses = [server.getResponse(\"\", time) for time in times]\n",
    "        \n",
    "        for response in responses[0:100]:\n",
    "            if (response.status_code != 200):\n",
    "                return TestResult.failed\n",
    "         \n",
    "        for response in responses[100:]:\n",
    "            if (response.status_code != 429):\n",
    "                return TestResult.failed\n",
    "        \n",
    "        return TestResult.passed"
   ]
  },
  {
   "cell_type": "code",
   "execution_count": null,
   "metadata": {},
   "outputs": [],
   "source": [
    "class RateLimiterTest3(Test):\n",
    "    def run(self):\n",
    "        \n",
    "        server = Test.Server()\n",
    "        \n",
    "        now = datetime.datetime.now()\n",
    "        \n",
    "        times = now + np.linspace(-1., 0., 100) * datetime.timedelta(hours=1.)\n",
    "        \n",
    "        responses = [server.getResponse(\"\", time) for time in times]\n",
    "        \n",
    "        for response in responses:\n",
    "            if (response.status_code != 200):\n",
    "                return TestResult.failed\n",
    "        \n",
    "        return TestResult.passed"
   ]
  },
  {
   "cell_type": "code",
   "execution_count": null,
   "metadata": {},
   "outputs": [],
   "source": [
    "class RateLimiterTest4(Test):\n",
    "    def run(self):\n",
    "        \n",
    "        server = Test.Server()\n",
    "        \n",
    "        now = datetime.datetime.now()\n",
    "        \n",
    "        times = now + np.linspace(-1., 0., 200) * datetime.timedelta(hours=1.0)\n",
    "        \n",
    "        responses = [server.getResponse(\"\", time) for time in times]\n",
    "                \n",
    "        for response in responses[0:100]:\n",
    "            if (response.status_code != 200):\n",
    "                return TestResult.failed\n",
    "         \n",
    "        for response in responses[101:]:\n",
    "            if (response.status_code != 429):\n",
    "                return TestResult.failed\n",
    "        \n",
    "        return TestResult.passed"
   ]
  },
  {
   "cell_type": "code",
   "execution_count": null,
   "metadata": {},
   "outputs": [],
   "source": [
    "class RateLimiterTest5(Test):\n",
    "    \n",
    "    class Client():\n",
    "        def __init__(self):\n",
    "            self.uuid = uuid.uuid4()\n",
    "    \n",
    "    def run(self):\n",
    "        server = self.Server()\n",
    "        clients = [self.Client(), self.Client(), self.Client()]\n",
    "        \n",
    "        for i in range(1, 102):\n",
    "            for client in clients:\n",
    "                response = server.getResponse(client.uuid)\n",
    "                \n",
    "                if (i <= 100):\n",
    "                    if response.status_code == 429:\n",
    "                        return TestResult.failed\n",
    "                else:\n",
    "                    if response.status_code == 200:\n",
    "                        return TestResult.failed\n",
    "        \n",
    "        return TestResult.passed"
   ]
  },
  {
   "cell_type": "code",
   "execution_count": null,
   "metadata": {
    "scrolled": false
   },
   "outputs": [],
   "source": [
    "tests = [RateLimiterTest1(), RateLimiterTest2(), RateLimiterTest3(), RateLimiterTest4(), RateLimiterTest5()]\n",
    "results = []\n",
    "\n",
    "for i, test in enumerate(tests):\n",
    "    test.setup()\n",
    "    result = test.run()\n",
    "    print (\"Test\", i + 1, result)\n",
    "    results.append(result)\n",
    "    \n",
    "passed = [result for result in results if result == TestResult.passed]\n",
    "\n",
    "print (\"Test Results:\", len(passed), \"/\", len(tests), \"tests passed\")"
   ]
  },
  {
   "cell_type": "code",
   "execution_count": null,
   "metadata": {},
   "outputs": [],
   "source": []
  }
 ],
 "metadata": {
  "kernelspec": {
   "display_name": "Python 3",
   "language": "python",
   "name": "python3"
  },
  "language_info": {
   "codemirror_mode": {
    "name": "ipython",
    "version": 3
   },
   "file_extension": ".py",
   "mimetype": "text/x-python",
   "name": "python",
   "nbconvert_exporter": "python",
   "pygments_lexer": "ipython3",
   "version": "3.7.4"
  }
 },
 "nbformat": 4,
 "nbformat_minor": 2
}
