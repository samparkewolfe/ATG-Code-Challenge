{
 "cells": [
  {
   "cell_type": "markdown",
   "metadata": {},
   "source": [
    "# AT Code Challenge\n",
    "\n",
    "## Description\n",
    "The task is to produce a rate-limiting module that stops a particular requestor from making too many http requests within a particular period of time.\n",
    "\n",
    "The module should expose a method that keeps track of requests and limits it such that a requester can only make 100 requests per hour. After the limit has been reached, return a 429 with the text \"Rate limit exceeded. Try again in #{n} seconds\".\n",
    "\n",
    "Although you are only required to implement the strategy described above, it should be easy to extend the rate limiting module to take on different rate-limiting strategies.\n",
    "\n",
    "How you do this is up to you. Think about how easy your rate limiter will be to maintain and control. Write what you consider to be production-quality code, with comments and tests if and when you consider them necessary."
   ]
  },
  {
   "cell_type": "code",
   "execution_count": null,
   "metadata": {},
   "outputs": [],
   "source": [
    "# Inspirations\n",
    "\n",
    "# Flask Response\n",
    "# https://stackoverflow.com/questions/7824101/return-http-status-code-201-in-flask\n",
    "\n",
    "# Decorators\n",
    "# https://realpython.com/primer-on-python-decorators/\n",
    "\n",
    "# Rate Limiter\n",
    "# https://pypi.org/project/ratelimiter/\n",
    "\n",
    "# Non Local\n",
    "# https://stackoverflow.com/questions/5218895/python-nested-functions-variable-scoping"
   ]
  },
  {
   "cell_type": "markdown",
   "metadata": {},
   "source": [
    "## Rate Limiter"
   ]
  },
  {
   "cell_type": "code",
   "execution_count": null,
   "metadata": {},
   "outputs": [],
   "source": [
    "from flask import Response"
   ]
  },
  {
   "cell_type": "code",
   "execution_count": null,
   "metadata": {},
   "outputs": [],
   "source": [
    "def RateLimiter(func):\n",
    "    requestCount = 0\n",
    "    \n",
    "    def wrapper(obj):\n",
    "        nonlocal requestCount\n",
    "        requestCount += 1\n",
    "        \n",
    "        if requestCount <= 100:\n",
    "            return func(obj)\n",
    "        else:\n",
    "            return Response(\"Rate limit exceeded. Try again in 10 seconds\", \n",
    "                            status=429, \n",
    "                            mimetype='application/json')\n",
    "    return wrapper"
   ]
  },
  {
   "cell_type": "code",
   "execution_count": null,
   "metadata": {},
   "outputs": [],
   "source": [
    "class Requestor:\n",
    "    @RateLimiter\n",
    "    def request(self):\n",
    "        return Response(\"success\", status=200, mimetype='application/json')"
   ]
  },
  {
   "cell_type": "markdown",
   "metadata": {},
   "source": [
    "## Test"
   ]
  },
  {
   "cell_type": "code",
   "execution_count": null,
   "metadata": {},
   "outputs": [],
   "source": [
    "class RateLimiterTest:\n",
    "    def run(self):\n",
    "        \n",
    "        requestor = Requestor()\n",
    "        \n",
    "        for i in range(1, 102):\n",
    "            response = requestor.request()\n",
    "            print(i, response.status, response.get_data())\n",
    "            if (response.status_code == 429):\n",
    "                break\n",
    "            assert(i <= 100)\n",
    "        \n",
    "        print(\"TEST PASSED\")"
   ]
  },
  {
   "cell_type": "code",
   "execution_count": null,
   "metadata": {},
   "outputs": [],
   "source": [
    "test = RateLimiterTest()\n",
    "test.run()"
   ]
  },
  {
   "cell_type": "code",
   "execution_count": null,
   "metadata": {},
   "outputs": [],
   "source": []
  }
 ],
 "metadata": {
  "kernelspec": {
   "display_name": "Python 3",
   "language": "python",
   "name": "python3"
  },
  "language_info": {
   "codemirror_mode": {
    "name": "ipython",
    "version": 3
   },
   "file_extension": ".py",
   "mimetype": "text/x-python",
   "name": "python",
   "nbconvert_exporter": "python",
   "pygments_lexer": "ipython3",
   "version": "3.7.4"
  }
 },
 "nbformat": 4,
 "nbformat_minor": 2
}
